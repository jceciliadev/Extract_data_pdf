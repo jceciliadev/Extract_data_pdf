{
  "nbformat": 4,
  "nbformat_minor": 0,
  "metadata": {
    "colab": {
      "name": "Pie_chart.ipynb",
      "provenance": [],
      "collapsed_sections": [],
      "authorship_tag": "ABX9TyMZWJ0+6Fz/WLFl/gPdybou",
      "include_colab_link": true
    },
    "kernelspec": {
      "name": "python3",
      "display_name": "Python 3"
    },
    "language_info": {
      "name": "python"
    }
  },
  "cells": [
    {
      "cell_type": "markdown",
      "metadata": {
        "id": "view-in-github",
        "colab_type": "text"
      },
      "source": [
        "<a href=\"https://colab.research.google.com/github/jceciliadev/Extract_data_pdf/blob/master/Pie_chart.ipynb\" target=\"_parent\"><img src=\"https://colab.research.google.com/assets/colab-badge.svg\" alt=\"Open In Colab\"/></a>"
      ]
    },
    {
      "cell_type": "code",
      "metadata": {
        "colab": {
          "base_uri": "https://localhost:8080/"
        },
        "id": "TwzzUeyR5bXH",
        "outputId": "10b81a55-229c-48eb-fd9f-9c45f4e7ced4"
      },
      "source": [
        "pip install ipywidgets"
      ],
      "execution_count": 9,
      "outputs": [
        {
          "output_type": "stream",
          "text": [
            "Requirement already satisfied: ipywidgets in /usr/local/lib/python3.7/dist-packages (7.6.3)\n",
            "Requirement already satisfied: ipython>=4.0.0; python_version >= \"3.3\" in /usr/local/lib/python3.7/dist-packages (from ipywidgets) (5.5.0)\n",
            "Requirement already satisfied: traitlets>=4.3.1 in /usr/local/lib/python3.7/dist-packages (from ipywidgets) (5.0.5)\n",
            "Requirement already satisfied: widgetsnbextension~=3.5.0 in /usr/local/lib/python3.7/dist-packages (from ipywidgets) (3.5.1)\n",
            "Requirement already satisfied: jupyterlab-widgets>=1.0.0; python_version >= \"3.6\" in /usr/local/lib/python3.7/dist-packages (from ipywidgets) (1.0.0)\n",
            "Requirement already satisfied: nbformat>=4.2.0 in /usr/local/lib/python3.7/dist-packages (from ipywidgets) (5.1.3)\n",
            "Requirement already satisfied: ipykernel>=4.5.1 in /usr/local/lib/python3.7/dist-packages (from ipywidgets) (4.10.1)\n",
            "Requirement already satisfied: pygments in /usr/local/lib/python3.7/dist-packages (from ipython>=4.0.0; python_version >= \"3.3\"->ipywidgets) (2.6.1)\n",
            "Requirement already satisfied: pexpect; sys_platform != \"win32\" in /usr/local/lib/python3.7/dist-packages (from ipython>=4.0.0; python_version >= \"3.3\"->ipywidgets) (4.8.0)\n",
            "Requirement already satisfied: decorator in /usr/local/lib/python3.7/dist-packages (from ipython>=4.0.0; python_version >= \"3.3\"->ipywidgets) (4.4.2)\n",
            "Requirement already satisfied: prompt-toolkit<2.0.0,>=1.0.4 in /usr/local/lib/python3.7/dist-packages (from ipython>=4.0.0; python_version >= \"3.3\"->ipywidgets) (1.0.18)\n",
            "Requirement already satisfied: pickleshare in /usr/local/lib/python3.7/dist-packages (from ipython>=4.0.0; python_version >= \"3.3\"->ipywidgets) (0.7.5)\n",
            "Requirement already satisfied: simplegeneric>0.8 in /usr/local/lib/python3.7/dist-packages (from ipython>=4.0.0; python_version >= \"3.3\"->ipywidgets) (0.8.1)\n",
            "Requirement already satisfied: setuptools>=18.5 in /usr/local/lib/python3.7/dist-packages (from ipython>=4.0.0; python_version >= \"3.3\"->ipywidgets) (57.2.0)\n",
            "Requirement already satisfied: ipython-genutils in /usr/local/lib/python3.7/dist-packages (from traitlets>=4.3.1->ipywidgets) (0.2.0)\n",
            "Requirement already satisfied: notebook>=4.4.1 in /usr/local/lib/python3.7/dist-packages (from widgetsnbextension~=3.5.0->ipywidgets) (5.3.1)\n",
            "Requirement already satisfied: jsonschema!=2.5.0,>=2.4 in /usr/local/lib/python3.7/dist-packages (from nbformat>=4.2.0->ipywidgets) (2.6.0)\n",
            "Requirement already satisfied: jupyter-core in /usr/local/lib/python3.7/dist-packages (from nbformat>=4.2.0->ipywidgets) (4.7.1)\n",
            "Requirement already satisfied: tornado>=4.0 in /usr/local/lib/python3.7/dist-packages (from ipykernel>=4.5.1->ipywidgets) (5.1.1)\n",
            "Requirement already satisfied: jupyter-client in /usr/local/lib/python3.7/dist-packages (from ipykernel>=4.5.1->ipywidgets) (5.3.5)\n",
            "Requirement already satisfied: ptyprocess>=0.5 in /usr/local/lib/python3.7/dist-packages (from pexpect; sys_platform != \"win32\"->ipython>=4.0.0; python_version >= \"3.3\"->ipywidgets) (0.7.0)\n",
            "Requirement already satisfied: six>=1.9.0 in /usr/local/lib/python3.7/dist-packages (from prompt-toolkit<2.0.0,>=1.0.4->ipython>=4.0.0; python_version >= \"3.3\"->ipywidgets) (1.15.0)\n",
            "Requirement already satisfied: wcwidth in /usr/local/lib/python3.7/dist-packages (from prompt-toolkit<2.0.0,>=1.0.4->ipython>=4.0.0; python_version >= \"3.3\"->ipywidgets) (0.2.5)\n",
            "Requirement already satisfied: jinja2 in /usr/local/lib/python3.7/dist-packages (from notebook>=4.4.1->widgetsnbextension~=3.5.0->ipywidgets) (2.11.3)\n",
            "Requirement already satisfied: terminado>=0.8.1 in /usr/local/lib/python3.7/dist-packages (from notebook>=4.4.1->widgetsnbextension~=3.5.0->ipywidgets) (0.10.1)\n",
            "Requirement already satisfied: Send2Trash in /usr/local/lib/python3.7/dist-packages (from notebook>=4.4.1->widgetsnbextension~=3.5.0->ipywidgets) (1.7.1)\n",
            "Requirement already satisfied: nbconvert in /usr/local/lib/python3.7/dist-packages (from notebook>=4.4.1->widgetsnbextension~=3.5.0->ipywidgets) (5.6.1)\n",
            "Requirement already satisfied: pyzmq>=13 in /usr/local/lib/python3.7/dist-packages (from jupyter-client->ipykernel>=4.5.1->ipywidgets) (22.1.0)\n",
            "Requirement already satisfied: python-dateutil>=2.1 in /usr/local/lib/python3.7/dist-packages (from jupyter-client->ipykernel>=4.5.1->ipywidgets) (2.8.1)\n",
            "Requirement already satisfied: MarkupSafe>=0.23 in /usr/local/lib/python3.7/dist-packages (from jinja2->notebook>=4.4.1->widgetsnbextension~=3.5.0->ipywidgets) (2.0.1)\n",
            "Requirement already satisfied: bleach in /usr/local/lib/python3.7/dist-packages (from nbconvert->notebook>=4.4.1->widgetsnbextension~=3.5.0->ipywidgets) (3.3.0)\n",
            "Requirement already satisfied: entrypoints>=0.2.2 in /usr/local/lib/python3.7/dist-packages (from nbconvert->notebook>=4.4.1->widgetsnbextension~=3.5.0->ipywidgets) (0.3)\n",
            "Requirement already satisfied: testpath in /usr/local/lib/python3.7/dist-packages (from nbconvert->notebook>=4.4.1->widgetsnbextension~=3.5.0->ipywidgets) (0.5.0)\n",
            "Requirement already satisfied: mistune<2,>=0.8.1 in /usr/local/lib/python3.7/dist-packages (from nbconvert->notebook>=4.4.1->widgetsnbextension~=3.5.0->ipywidgets) (0.8.4)\n",
            "Requirement already satisfied: defusedxml in /usr/local/lib/python3.7/dist-packages (from nbconvert->notebook>=4.4.1->widgetsnbextension~=3.5.0->ipywidgets) (0.7.1)\n",
            "Requirement already satisfied: pandocfilters>=1.4.1 in /usr/local/lib/python3.7/dist-packages (from nbconvert->notebook>=4.4.1->widgetsnbextension~=3.5.0->ipywidgets) (1.4.3)\n",
            "Requirement already satisfied: webencodings in /usr/local/lib/python3.7/dist-packages (from bleach->nbconvert->notebook>=4.4.1->widgetsnbextension~=3.5.0->ipywidgets) (0.5.1)\n",
            "Requirement already satisfied: packaging in /usr/local/lib/python3.7/dist-packages (from bleach->nbconvert->notebook>=4.4.1->widgetsnbextension~=3.5.0->ipywidgets) (21.0)\n",
            "Requirement already satisfied: pyparsing>=2.0.2 in /usr/local/lib/python3.7/dist-packages (from packaging->bleach->nbconvert->notebook>=4.4.1->widgetsnbextension~=3.5.0->ipywidgets) (2.4.7)\n"
          ],
          "name": "stdout"
        }
      ]
    },
    {
      "cell_type": "code",
      "metadata": {
        "id": "_6rrwaRh54aW"
      },
      "source": [
        "from ipywidgets import IntSlider\n",
        "import ipywidgets as widgets\n",
        "import numpy as np\n",
        "import pandas as pd\n",
        "import matplotlib.pyplot as plt\n",
        "import statsmodels.api as sm\n",
        "from ipywidgets import interact\n",
        "from IPython.display import display\n"
      ],
      "execution_count": 52,
      "outputs": []
    },
    {
      "cell_type": "code",
      "metadata": {
        "colab": {
          "base_uri": "https://localhost:8080/"
        },
        "id": "gVD6-BEz6W5y",
        "outputId": "a57c87cc-6cee-4be6-e26c-694a2253ff0b"
      },
      "source": [
        "deaths_path = '/content/control_11.csv'\n",
        "deaths_df = pd.read_csv(deaths_path, sep=\";\")\n",
        "print(deaths_df)"
      ],
      "execution_count": 13,
      "outputs": [
        {
          "output_type": "stream",
          "text": [
            "     num_bien_dq  num_seguim_dq  ...          desc_finalidad  data_date_part\n",
            "0            0.0   1.220321e+12  ...  RET. CIRCULAR BDE VMER      2021-05-26\n",
            "1            0.0   1.220366e+12  ...          RECUP. SUBASTA      2021-05-26\n",
            "2            0.0   1.220471e+12  ...    GARANTIA HIPOTECARIA      2021-05-26\n",
            "3            0.0   1.220494e+12  ...    GARANTIA HIPOTECARIA      2021-05-26\n",
            "4            0.0   1.220494e+12  ...    GARANTIA HIPOTECARIA      2021-05-26\n",
            "..           ...            ...  ...                     ...             ...\n",
            "538          0.0   1.220494e+12  ...    GARANTIA HIPOTECARIA      2021-05-26\n",
            "539          0.0   1.220944e+12  ...    GARANTIA HIPOTECARIA      2021-05-26\n",
            "540          0.0   1.221231e+12  ...    GARANTIA HIPOTECARIA      2021-05-26\n",
            "541          0.0   1.220494e+12  ...    GARANTIA HIPOTECARIA      2021-05-26\n",
            "542          0.0   1.220421e+12  ...          RECUP. SUBASTA      2021-05-26\n",
            "\n",
            "[543 rows x 11 columns]\n"
          ],
          "name": "stdout"
        }
      ]
    },
    {
      "cell_type": "code",
      "metadata": {
        "colab": {
          "base_uri": "https://localhost:8080/"
        },
        "id": "eQabYsEKKWP2",
        "outputId": "e3170c89-486d-4128-fbfb-94e9a7e2680a"
      },
      "source": [
        "print('Cantidad de Filas y columnas:',deaths_df.shape)\n",
        "print('Nombre columnas:',deaths_df.columns)"
      ],
      "execution_count": 12,
      "outputs": [
        {
          "output_type": "stream",
          "text": [
            "Cantidad de Filas y columnas: (543, 11)\n",
            "Nombre columnas: Index(['num_bien_dq', 'num_seguim_dq', 'num_bien_it', 'num_seguim_it',\n",
            "       'cod_incidencia_dq', 'error_tbl_it', 'flag_final_dq', 'check',\n",
            "       'cod_finalidad', 'desc_finalidad', 'data_date_part'],\n",
            "      dtype='object')\n"
          ],
          "name": "stdout"
        }
      ]
    },
    {
      "cell_type": "code",
      "metadata": {
        "colab": {
          "base_uri": "https://localhost:8080/"
        },
        "id": "F3PC9T-lKno-",
        "outputId": "88c8c4a7-7232-460d-b00b-6861a9bdc5a0"
      },
      "source": [
        "deaths_df.info()"
      ],
      "execution_count": 14,
      "outputs": [
        {
          "output_type": "stream",
          "text": [
            "<class 'pandas.core.frame.DataFrame'>\n",
            "RangeIndex: 543 entries, 0 to 542\n",
            "Data columns (total 11 columns):\n",
            " #   Column             Non-Null Count  Dtype  \n",
            "---  ------             --------------  -----  \n",
            " 0   num_bien_dq        540 non-null    float64\n",
            " 1   num_seguim_dq      540 non-null    float64\n",
            " 2   num_bien_it        542 non-null    float64\n",
            " 3   num_seguim_it      542 non-null    float64\n",
            " 4   cod_incidencia_dq  540 non-null    float64\n",
            " 5   error_tbl_it       542 non-null    float64\n",
            " 6   flag_final_dq      540 non-null    object \n",
            " 7   check              543 non-null    object \n",
            " 8   cod_finalidad      543 non-null    int64  \n",
            " 9   desc_finalidad     543 non-null    object \n",
            " 10  data_date_part     543 non-null    object \n",
            "dtypes: float64(6), int64(1), object(4)\n",
            "memory usage: 46.8+ KB\n"
          ],
          "name": "stdout"
        }
      ]
    },
    {
      "cell_type": "code",
      "metadata": {
        "colab": {
          "base_uri": "https://localhost:8080/",
          "height": 78
        },
        "id": "Ro7PR4roK0vl",
        "outputId": "923b21ea-4e31-44b2-8b1b-fc8423381700"
      },
      "source": [
        "deaths_df.describe().transpose()"
      ],
      "execution_count": 46,
      "outputs": [
        {
          "output_type": "execute_result",
          "data": {
            "text/html": [
              "<div>\n",
              "<style scoped>\n",
              "    .dataframe tbody tr th:only-of-type {\n",
              "        vertical-align: middle;\n",
              "    }\n",
              "\n",
              "    .dataframe tbody tr th {\n",
              "        vertical-align: top;\n",
              "    }\n",
              "\n",
              "    .dataframe thead th {\n",
              "        text-align: right;\n",
              "    }\n",
              "</style>\n",
              "<table border=\"1\" class=\"dataframe\">\n",
              "  <thead>\n",
              "    <tr style=\"text-align: right;\">\n",
              "      <th></th>\n",
              "      <th>count</th>\n",
              "      <th>mean</th>\n",
              "      <th>std</th>\n",
              "      <th>min</th>\n",
              "      <th>25%</th>\n",
              "      <th>50%</th>\n",
              "      <th>75%</th>\n",
              "      <th>max</th>\n",
              "    </tr>\n",
              "  </thead>\n",
              "  <tbody>\n",
              "    <tr>\n",
              "      <th>cod_finalidad</th>\n",
              "      <td>543.0</td>\n",
              "      <td>3.688766</td>\n",
              "      <td>6.049672</td>\n",
              "      <td>1.0</td>\n",
              "      <td>1.0</td>\n",
              "      <td>1.0</td>\n",
              "      <td>1.0</td>\n",
              "      <td>19.0</td>\n",
              "    </tr>\n",
              "  </tbody>\n",
              "</table>\n",
              "</div>"
            ],
            "text/plain": [
              "               count      mean       std  min  25%  50%  75%   max\n",
              "cod_finalidad  543.0  3.688766  6.049672  1.0  1.0  1.0  1.0  19.0"
            ]
          },
          "metadata": {
            "tags": []
          },
          "execution_count": 46
        }
      ]
    },
    {
      "cell_type": "code",
      "metadata": {
        "colab": {
          "base_uri": "https://localhost:8080/",
          "height": 296
        },
        "id": "03d3hmdjNLfu",
        "outputId": "4197a115-6c75-4e96-e667-ffeb0d7f1d88"
      },
      "source": [
        "corr = deaths_df.set_index('cod_finalidad').corr()\n",
        "sm.graphics.plot_corr(corr, xnames=list(corr.columns))\n",
        "plt.show()"
      ],
      "execution_count": 17,
      "outputs": [
        {
          "output_type": "display_data",
          "data": {
            "image/png": "[encoded data removed]",
            "text/plain": [
              "<Figure size 432x288 with 2 Axes>"
            ]
          },
          "metadata": {
            "tags": [],
            "needs_background": "light"
          }
        }
      ]
    },
    {
      "cell_type": "code",
      "metadata": {
        "id": "f4-gEDwTf4aT"
      },
      "source": [
        "# verificar cuales valores son NaN o nulos (Null)\n",
        "deaths_df.isna()\n"
      ],
      "execution_count": null,
      "outputs": []
    },
    {
      "cell_type": "code",
      "metadata": {
        "colab": {
          "base_uri": "https://localhost:8080/"
        },
        "id": "_rUgcR1IRIrb",
        "outputId": "99e36919-7a0f-4526-cddd-3c7de58e98be"
      },
      "source": [
        "deaths_df.fillna('+',inplace=True)\n",
        "cod_final=deaths_df[['cod_finalidad','desc_finalidad']]\n",
        "print(cod_final.loc[:,['cod_finalidad','desc_finalidad']])"
      ],
      "execution_count": 17,
      "outputs": [
        {
          "output_type": "stream",
          "text": [
            "     cod_finalidad          desc_finalidad\n",
            "0               19  RET. CIRCULAR BDE VMER\n",
            "1               15          RECUP. SUBASTA\n",
            "2                1    GARANTIA HIPOTECARIA\n",
            "3                1    GARANTIA HIPOTECARIA\n",
            "4                1    GARANTIA HIPOTECARIA\n",
            "..             ...                     ...\n",
            "538              1    GARANTIA HIPOTECARIA\n",
            "539              1    GARANTIA HIPOTECARIA\n",
            "540              1    GARANTIA HIPOTECARIA\n",
            "541              1    GARANTIA HIPOTECARIA\n",
            "542             15          RECUP. SUBASTA\n",
            "\n",
            "[543 rows x 2 columns]\n"
          ],
          "name": "stdout"
        }
      ]
    },
    {
      "cell_type": "code",
      "metadata": {
        "colab": {
          "base_uri": "https://localhost:8080/"
        },
        "id": "1LFl3A0iQTM6",
        "outputId": "05e624fe-cb4c-42ff-b5fb-51e5ca44e218"
      },
      "source": [
        "deaths_df['cod_finalidad'].unique()\n"
      ],
      "execution_count": 55,
      "outputs": [
        {
          "output_type": "execute_result",
          "data": {
            "text/plain": [
              "array([19, 15,  1, 17, 14])"
            ]
          },
          "metadata": {
            "tags": []
          },
          "execution_count": 55
        }
      ]
    },
    {
      "cell_type": "code",
      "metadata": {
        "colab": {
          "base_uri": "https://localhost:8080/"
        },
        "id": "QEQhubDngblh",
        "outputId": "e34ad334-1647-4aa1-a658-0add13bb4b36"
      },
      "source": [
        "deaths_df['desc_finalidad'].unique()"
      ],
      "execution_count": 73,
      "outputs": [
        {
          "output_type": "execute_result",
          "data": {
            "text/plain": [
              "array(['RET. CIRCULAR BDE VMER', 'RECUP. SUBASTA', 'GARANTIA HIPOTECARIA',\n",
              "       'CIRCULAR BDE', 'RECUP. DACION EN PAGO'], dtype=object)"
            ]
          },
          "metadata": {
            "tags": []
          },
          "execution_count": 73
        }
      ]
    },
    {
      "cell_type": "code",
      "metadata": {
        "colab": {
          "base_uri": "https://localhost:8080/",
          "height": 601
        },
        "id": "cayiiZPJkLkE",
        "outputId": "3f88638c-7f1f-481f-a7c9-286707ba1c98"
      },
      "source": [
        "\n",
        "planets_2019 = deaths_df[deaths_df.cod_finalidad.isin([19,1])]\n",
        "planets_2019"
      ],
      "execution_count": 43,
      "outputs": [
        {
          "output_type": "execute_result",
          "data": {
            "text/html": [
              "<div>\n",
              "<style scoped>\n",
              "    .dataframe tbody tr th:only-of-type {\n",
              "        vertical-align: middle;\n",
              "    }\n",
              "\n",
              "    .dataframe tbody tr th {\n",
              "        vertical-align: top;\n",
              "    }\n",
              "\n",
              "    .dataframe thead th {\n",
              "        text-align: right;\n",
              "    }\n",
              "</style>\n",
              "<table border=\"1\" class=\"dataframe\">\n",
              "  <thead>\n",
              "    <tr style=\"text-align: right;\">\n",
              "      <th></th>\n",
              "      <th>num_bien_dq</th>\n",
              "      <th>num_seguim_dq</th>\n",
              "      <th>num_bien_it</th>\n",
              "      <th>num_seguim_it</th>\n",
              "      <th>cod_incidencia_dq</th>\n",
              "      <th>error_tbl_it</th>\n",
              "      <th>flag_final_dq</th>\n",
              "      <th>check</th>\n",
              "      <th>cod_finalidad</th>\n",
              "      <th>desc_finalidad</th>\n",
              "      <th>data_date_part</th>\n",
              "    </tr>\n",
              "  </thead>\n",
              "  <tbody>\n",
              "    <tr>\n",
              "      <th>0</th>\n",
              "      <td>0</td>\n",
              "      <td>1.22032e+12</td>\n",
              "      <td>0</td>\n",
              "      <td>1.22032e+12</td>\n",
              "      <td>11</td>\n",
              "      <td>11</td>\n",
              "      <td>N</td>\n",
              "      <td>OK</td>\n",
              "      <td>19</td>\n",
              "      <td>RET. CIRCULAR BDE VMER</td>\n",
              "      <td>2021-05-26</td>\n",
              "    </tr>\n",
              "    <tr>\n",
              "      <th>2</th>\n",
              "      <td>0</td>\n",
              "      <td>1.22047e+12</td>\n",
              "      <td>0</td>\n",
              "      <td>1.22047e+12</td>\n",
              "      <td>11</td>\n",
              "      <td>11</td>\n",
              "      <td>N</td>\n",
              "      <td>OK</td>\n",
              "      <td>1</td>\n",
              "      <td>GARANTIA HIPOTECARIA</td>\n",
              "      <td>2021-05-26</td>\n",
              "    </tr>\n",
              "    <tr>\n",
              "      <th>3</th>\n",
              "      <td>0</td>\n",
              "      <td>1.22049e+12</td>\n",
              "      <td>0</td>\n",
              "      <td>1.22049e+12</td>\n",
              "      <td>11</td>\n",
              "      <td>11</td>\n",
              "      <td>N</td>\n",
              "      <td>OK</td>\n",
              "      <td>1</td>\n",
              "      <td>GARANTIA HIPOTECARIA</td>\n",
              "      <td>2021-05-26</td>\n",
              "    </tr>\n",
              "    <tr>\n",
              "      <th>4</th>\n",
              "      <td>0</td>\n",
              "      <td>1.22049e+12</td>\n",
              "      <td>0</td>\n",
              "      <td>1.22049e+12</td>\n",
              "      <td>11</td>\n",
              "      <td>11</td>\n",
              "      <td>N</td>\n",
              "      <td>OK</td>\n",
              "      <td>1</td>\n",
              "      <td>GARANTIA HIPOTECARIA</td>\n",
              "      <td>2021-05-26</td>\n",
              "    </tr>\n",
              "    <tr>\n",
              "      <th>5</th>\n",
              "      <td>0</td>\n",
              "      <td>1.22049e+12</td>\n",
              "      <td>0</td>\n",
              "      <td>1.22049e+12</td>\n",
              "      <td>11</td>\n",
              "      <td>11</td>\n",
              "      <td>N</td>\n",
              "      <td>OK</td>\n",
              "      <td>1</td>\n",
              "      <td>GARANTIA HIPOTECARIA</td>\n",
              "      <td>2021-05-26</td>\n",
              "    </tr>\n",
              "    <tr>\n",
              "      <th>...</th>\n",
              "      <td>...</td>\n",
              "      <td>...</td>\n",
              "      <td>...</td>\n",
              "      <td>...</td>\n",
              "      <td>...</td>\n",
              "      <td>...</td>\n",
              "      <td>...</td>\n",
              "      <td>...</td>\n",
              "      <td>...</td>\n",
              "      <td>...</td>\n",
              "      <td>...</td>\n",
              "    </tr>\n",
              "    <tr>\n",
              "      <th>537</th>\n",
              "      <td>0</td>\n",
              "      <td>1.22049e+12</td>\n",
              "      <td>0</td>\n",
              "      <td>1.22049e+12</td>\n",
              "      <td>11</td>\n",
              "      <td>11</td>\n",
              "      <td>N</td>\n",
              "      <td>OK</td>\n",
              "      <td>1</td>\n",
              "      <td>GARANTIA HIPOTECARIA</td>\n",
              "      <td>2021-05-26</td>\n",
              "    </tr>\n",
              "    <tr>\n",
              "      <th>538</th>\n",
              "      <td>0</td>\n",
              "      <td>1.22049e+12</td>\n",
              "      <td>0</td>\n",
              "      <td>1.22049e+12</td>\n",
              "      <td>11</td>\n",
              "      <td>11</td>\n",
              "      <td>N</td>\n",
              "      <td>OK</td>\n",
              "      <td>1</td>\n",
              "      <td>GARANTIA HIPOTECARIA</td>\n",
              "      <td>2021-05-26</td>\n",
              "    </tr>\n",
              "    <tr>\n",
              "      <th>539</th>\n",
              "      <td>0</td>\n",
              "      <td>1.22094e+12</td>\n",
              "      <td>0</td>\n",
              "      <td>1.22094e+12</td>\n",
              "      <td>11</td>\n",
              "      <td>11</td>\n",
              "      <td>N</td>\n",
              "      <td>OK</td>\n",
              "      <td>1</td>\n",
              "      <td>GARANTIA HIPOTECARIA</td>\n",
              "      <td>2021-05-26</td>\n",
              "    </tr>\n",
              "    <tr>\n",
              "      <th>540</th>\n",
              "      <td>0</td>\n",
              "      <td>1.22123e+12</td>\n",
              "      <td>0</td>\n",
              "      <td>1.22123e+12</td>\n",
              "      <td>11</td>\n",
              "      <td>11</td>\n",
              "      <td>N</td>\n",
              "      <td>OK</td>\n",
              "      <td>1</td>\n",
              "      <td>GARANTIA HIPOTECARIA</td>\n",
              "      <td>2021-05-26</td>\n",
              "    </tr>\n",
              "    <tr>\n",
              "      <th>541</th>\n",
              "      <td>0</td>\n",
              "      <td>1.22049e+12</td>\n",
              "      <td>0</td>\n",
              "      <td>1.22049e+12</td>\n",
              "      <td>11</td>\n",
              "      <td>11</td>\n",
              "      <td>N</td>\n",
              "      <td>OK</td>\n",
              "      <td>1</td>\n",
              "      <td>GARANTIA HIPOTECARIA</td>\n",
              "      <td>2021-05-26</td>\n",
              "    </tr>\n",
              "  </tbody>\n",
              "</table>\n",
              "<p>493 rows × 11 columns</p>\n",
              "</div>"
            ],
            "text/plain": [
              "    num_bien_dq num_seguim_dq  ...          desc_finalidad data_date_part\n",
              "0             0   1.22032e+12  ...  RET. CIRCULAR BDE VMER     2021-05-26\n",
              "2             0   1.22047e+12  ...    GARANTIA HIPOTECARIA     2021-05-26\n",
              "3             0   1.22049e+12  ...    GARANTIA HIPOTECARIA     2021-05-26\n",
              "4             0   1.22049e+12  ...    GARANTIA HIPOTECARIA     2021-05-26\n",
              "5             0   1.22049e+12  ...    GARANTIA HIPOTECARIA     2021-05-26\n",
              "..          ...           ...  ...                     ...            ...\n",
              "537           0   1.22049e+12  ...    GARANTIA HIPOTECARIA     2021-05-26\n",
              "538           0   1.22049e+12  ...    GARANTIA HIPOTECARIA     2021-05-26\n",
              "539           0   1.22094e+12  ...    GARANTIA HIPOTECARIA     2021-05-26\n",
              "540           0   1.22123e+12  ...    GARANTIA HIPOTECARIA     2021-05-26\n",
              "541           0   1.22049e+12  ...    GARANTIA HIPOTECARIA     2021-05-26\n",
              "\n",
              "[493 rows x 11 columns]"
            ]
          },
          "metadata": {
            "tags": []
          },
          "execution_count": 43
        }
      ]
    },
    {
      "cell_type": "code",
      "metadata": {
        "id": "tK8dZBKPOz4g"
      },
      "source": [
        "#@title Example form fields\n",
        "#@markdown Forms support many types of fields.\n",
        "#@title ## Markdown\n",
        "#@markdown You can also include Markdown in forms.\n",
        "\n",
        "#@markdown ---\n",
        "#@markdown ### Enter a file path:\n",
        "file_path = \"/home/janethc/Descargas/control_11.csv\" #@param {type:\"string\"}\n",
        "#@markdown ---\n",
        "#@title After running this cell manually, it will auto-run if you change the selected value. { run: \"auto\" }\n",
        "\n",
        "option2 = \"B\" #@param [\"A\", \"B\", \"C\"]\n",
        "print('You selected', option2)\n",
        "\n",
        "\n",
        "no_type_checking =   4125#@param)\n",
        "string_type = ',uiyyu'  #@param {type: \"string\"}\n",
        "slider_value = 100 #@param {type: \"slider\", min: 100, max: 200}\n",
        "number = 10  #@param {type: \"number\"}\n",
        "date = '2010-11-23'  #@param {type: \"date\"}\n",
        "pick_me = \"tuesday\"  #@param ['monday', 'tuesday', 'wednesday', 'thursday']\n",
        "select_or_input = \"apples\" #@param [\"apples\", \"bananas\", \"oranges\"] {allow-input: true}\n",
        "#@markdown ---\n"
      ],
      "execution_count": 78,
      "outputs": []
    },
    {
      "cell_type": "code",
      "metadata": {
        "id": "POM9KQ2ilgSp"
      },
      "source": [
        "# Funcion1\n",
        "def filtro1(Columna, x):\n",
        "    return (df.loc[df[Columna]>x])\n",
        "#funcion agrupar\n",
        "def buscar_cod_finalidad(df,condiciones:list ,color='green'):\n",
        "    df_filtratdo = df[df.cod_finalidad.isin(condiciones)]\n",
        "    return df_filtratdo\n",
        "    #funcion2\n",
        "def filtro2(Columnas,columnas):\n",
        "    return (df.loc[(df['desc_finalidad'] == Columnas) & (df['cod_finalidad'] == columnas)])    \n",
        "\n",
        " \n",
        "   "
      ],
      "execution_count": 74,
      "outputs": []
    },
    {
      "cell_type": "code",
      "metadata": {
        "colab": {
          "base_uri": "https://localhost:8080/",
          "height": 601
        },
        "id": "MMib3rk9Ko0k",
        "outputId": "fdc95b68-3075-4e92-f4ee-e5769360068f"
      },
      "source": [
        "buscar_cod_finalidad(deaths_df,[19,1,15])"
      ],
      "execution_count": 63,
      "outputs": [
        {
          "output_type": "execute_result",
          "data": {
            "text/html": [
              "<div>\n",
              "<style scoped>\n",
              "    .dataframe tbody tr th:only-of-type {\n",
              "        vertical-align: middle;\n",
              "    }\n",
              "\n",
              "    .dataframe tbody tr th {\n",
              "        vertical-align: top;\n",
              "    }\n",
              "\n",
              "    .dataframe thead th {\n",
              "        text-align: right;\n",
              "    }\n",
              "</style>\n",
              "<table border=\"1\" class=\"dataframe\">\n",
              "  <thead>\n",
              "    <tr style=\"text-align: right;\">\n",
              "      <th></th>\n",
              "      <th>num_bien_dq</th>\n",
              "      <th>num_seguim_dq</th>\n",
              "      <th>num_bien_it</th>\n",
              "      <th>num_seguim_it</th>\n",
              "      <th>cod_incidencia_dq</th>\n",
              "      <th>error_tbl_it</th>\n",
              "      <th>flag_final_dq</th>\n",
              "      <th>check</th>\n",
              "      <th>cod_finalidad</th>\n",
              "      <th>desc_finalidad</th>\n",
              "      <th>data_date_part</th>\n",
              "    </tr>\n",
              "  </thead>\n",
              "  <tbody>\n",
              "    <tr>\n",
              "      <th>0</th>\n",
              "      <td>0</td>\n",
              "      <td>1.22032e+12</td>\n",
              "      <td>0</td>\n",
              "      <td>1.22032e+12</td>\n",
              "      <td>11</td>\n",
              "      <td>11</td>\n",
              "      <td>N</td>\n",
              "      <td>OK</td>\n",
              "      <td>19</td>\n",
              "      <td>RET. CIRCULAR BDE VMER</td>\n",
              "      <td>2021-05-26</td>\n",
              "    </tr>\n",
              "    <tr>\n",
              "      <th>1</th>\n",
              "      <td>0</td>\n",
              "      <td>1.22037e+12</td>\n",
              "      <td>0</td>\n",
              "      <td>1.22037e+12</td>\n",
              "      <td>11</td>\n",
              "      <td>11</td>\n",
              "      <td>N</td>\n",
              "      <td>OK</td>\n",
              "      <td>15</td>\n",
              "      <td>RECUP. SUBASTA</td>\n",
              "      <td>2021-05-26</td>\n",
              "    </tr>\n",
              "    <tr>\n",
              "      <th>2</th>\n",
              "      <td>0</td>\n",
              "      <td>1.22047e+12</td>\n",
              "      <td>0</td>\n",
              "      <td>1.22047e+12</td>\n",
              "      <td>11</td>\n",
              "      <td>11</td>\n",
              "      <td>N</td>\n",
              "      <td>OK</td>\n",
              "      <td>1</td>\n",
              "      <td>GARANTIA HIPOTECARIA</td>\n",
              "      <td>2021-05-26</td>\n",
              "    </tr>\n",
              "    <tr>\n",
              "      <th>3</th>\n",
              "      <td>0</td>\n",
              "      <td>1.22049e+12</td>\n",
              "      <td>0</td>\n",
              "      <td>1.22049e+12</td>\n",
              "      <td>11</td>\n",
              "      <td>11</td>\n",
              "      <td>N</td>\n",
              "      <td>OK</td>\n",
              "      <td>1</td>\n",
              "      <td>GARANTIA HIPOTECARIA</td>\n",
              "      <td>2021-05-26</td>\n",
              "    </tr>\n",
              "    <tr>\n",
              "      <th>4</th>\n",
              "      <td>0</td>\n",
              "      <td>1.22049e+12</td>\n",
              "      <td>0</td>\n",
              "      <td>1.22049e+12</td>\n",
              "      <td>11</td>\n",
              "      <td>11</td>\n",
              "      <td>N</td>\n",
              "      <td>OK</td>\n",
              "      <td>1</td>\n",
              "      <td>GARANTIA HIPOTECARIA</td>\n",
              "      <td>2021-05-26</td>\n",
              "    </tr>\n",
              "    <tr>\n",
              "      <th>...</th>\n",
              "      <td>...</td>\n",
              "      <td>...</td>\n",
              "      <td>...</td>\n",
              "      <td>...</td>\n",
              "      <td>...</td>\n",
              "      <td>...</td>\n",
              "      <td>...</td>\n",
              "      <td>...</td>\n",
              "      <td>...</td>\n",
              "      <td>...</td>\n",
              "      <td>...</td>\n",
              "    </tr>\n",
              "    <tr>\n",
              "      <th>538</th>\n",
              "      <td>0</td>\n",
              "      <td>1.22049e+12</td>\n",
              "      <td>0</td>\n",
              "      <td>1.22049e+12</td>\n",
              "      <td>11</td>\n",
              "      <td>11</td>\n",
              "      <td>N</td>\n",
              "      <td>OK</td>\n",
              "      <td>1</td>\n",
              "      <td>GARANTIA HIPOTECARIA</td>\n",
              "      <td>2021-05-26</td>\n",
              "    </tr>\n",
              "    <tr>\n",
              "      <th>539</th>\n",
              "      <td>0</td>\n",
              "      <td>1.22094e+12</td>\n",
              "      <td>0</td>\n",
              "      <td>1.22094e+12</td>\n",
              "      <td>11</td>\n",
              "      <td>11</td>\n",
              "      <td>N</td>\n",
              "      <td>OK</td>\n",
              "      <td>1</td>\n",
              "      <td>GARANTIA HIPOTECARIA</td>\n",
              "      <td>2021-05-26</td>\n",
              "    </tr>\n",
              "    <tr>\n",
              "      <th>540</th>\n",
              "      <td>0</td>\n",
              "      <td>1.22123e+12</td>\n",
              "      <td>0</td>\n",
              "      <td>1.22123e+12</td>\n",
              "      <td>11</td>\n",
              "      <td>11</td>\n",
              "      <td>N</td>\n",
              "      <td>OK</td>\n",
              "      <td>1</td>\n",
              "      <td>GARANTIA HIPOTECARIA</td>\n",
              "      <td>2021-05-26</td>\n",
              "    </tr>\n",
              "    <tr>\n",
              "      <th>541</th>\n",
              "      <td>0</td>\n",
              "      <td>1.22049e+12</td>\n",
              "      <td>0</td>\n",
              "      <td>1.22049e+12</td>\n",
              "      <td>11</td>\n",
              "      <td>11</td>\n",
              "      <td>N</td>\n",
              "      <td>OK</td>\n",
              "      <td>1</td>\n",
              "      <td>GARANTIA HIPOTECARIA</td>\n",
              "      <td>2021-05-26</td>\n",
              "    </tr>\n",
              "    <tr>\n",
              "      <th>542</th>\n",
              "      <td>0</td>\n",
              "      <td>1.22042e+12</td>\n",
              "      <td>0</td>\n",
              "      <td>1.22042e+12</td>\n",
              "      <td>11</td>\n",
              "      <td>11</td>\n",
              "      <td>N</td>\n",
              "      <td>OK</td>\n",
              "      <td>15</td>\n",
              "      <td>RECUP. SUBASTA</td>\n",
              "      <td>2021-05-26</td>\n",
              "    </tr>\n",
              "  </tbody>\n",
              "</table>\n",
              "<p>523 rows × 11 columns</p>\n",
              "</div>"
            ],
            "text/plain": [
              "    num_bien_dq num_seguim_dq  ...          desc_finalidad data_date_part\n",
              "0             0   1.22032e+12  ...  RET. CIRCULAR BDE VMER     2021-05-26\n",
              "1             0   1.22037e+12  ...          RECUP. SUBASTA     2021-05-26\n",
              "2             0   1.22047e+12  ...    GARANTIA HIPOTECARIA     2021-05-26\n",
              "3             0   1.22049e+12  ...    GARANTIA HIPOTECARIA     2021-05-26\n",
              "4             0   1.22049e+12  ...    GARANTIA HIPOTECARIA     2021-05-26\n",
              "..          ...           ...  ...                     ...            ...\n",
              "538           0   1.22049e+12  ...    GARANTIA HIPOTECARIA     2021-05-26\n",
              "539           0   1.22094e+12  ...    GARANTIA HIPOTECARIA     2021-05-26\n",
              "540           0   1.22123e+12  ...    GARANTIA HIPOTECARIA     2021-05-26\n",
              "541           0   1.22049e+12  ...    GARANTIA HIPOTECARIA     2021-05-26\n",
              "542           0   1.22042e+12  ...          RECUP. SUBASTA     2021-05-26\n",
              "\n",
              "[523 rows x 11 columns]"
            ]
          },
          "metadata": {
            "tags": []
          },
          "execution_count": 63
        }
      ]
    },
    {
      "cell_type": "code",
      "metadata": {
        "colab": {
          "base_uri": "https://localhost:8080/",
          "height": 185
        },
        "id": "ShH78c3ri1XX",
        "outputId": "3cc6775f-0324-42eb-a805-b92916615921"
      },
      "source": [
        "\n",
        "# create a slider\n",
        "interact(my_function, x=20)"
      ],
      "execution_count": 76,
      "outputs": [
        {
          "output_type": "error",
          "ename": "TypeError",
          "evalue": "ignored",
          "traceback": [
            "\u001b[0;31m---------------------------------------------------------------------------\u001b[0m",
            "\u001b[0;31mTypeError\u001b[0m                                 Traceback (most recent call last)",
            "\u001b[0;32m<ipython-input-76-870614edfc92>\u001b[0m in \u001b[0;36m<module>\u001b[0;34m()\u001b[0m\n\u001b[1;32m      1\u001b[0m \u001b[0;34m\u001b[0m\u001b[0m\n\u001b[0;32m----> 2\u001b[0;31m \u001b[0mfiltro2\u001b[0m\u001b[0;34m(\u001b[0m\u001b[0mdeaths_df\u001b[0m\u001b[0;34m)\u001b[0m\u001b[0;34m\u001b[0m\u001b[0;34m\u001b[0m\u001b[0m\n\u001b[0m",
            "\u001b[0;31mTypeError\u001b[0m: filtro2() missing 1 required positional argument: 'columnas'"
          ]
        }
      ]
    }
  ]
}